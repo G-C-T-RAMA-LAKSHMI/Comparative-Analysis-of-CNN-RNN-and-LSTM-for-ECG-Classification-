{
  "nbformat": 4,
  "nbformat_minor": 0,
  "metadata": {
    "colab": {
      "provenance": [],
      "authorship_tag": "ABX9TyOfuqe9l/o7VoKiejLHmNze",
      "include_colab_link": true
    },
    "kernelspec": {
      "name": "python3",
      "display_name": "Python 3"
    },
    "language_info": {
      "name": "python"
    }
  },
  "cells": [
    {
      "cell_type": "markdown",
      "metadata": {
        "id": "view-in-github",
        "colab_type": "text"
      },
      "source": [
        "<a href=\"https://colab.research.google.com/github/G-C-T-RAMA-LAKSHMI/Comparative-Analysis-of-CNN-RNN-and-LSTM-for-ECG-Classification-/blob/main/Untitled2.ipynb\" target=\"_parent\"><img src=\"https://colab.research.google.com/assets/colab-badge.svg\" alt=\"Open In Colab\"/></a>"
      ]
    },
    {
      "cell_type": "code",
      "execution_count": null,
      "metadata": {
        "id": "t0jxPy0Bs2n6"
      },
      "outputs": [],
      "source": [
        "import pandas as pd\n",
        "import numpy as np\n",
        "import tensorflow as tf\n",
        "import matplotlib.pyplot as plt\n",
        "from tensorflow import keras\n",
        "from tensorflow.keras.models import Sequential\n",
        "from tensorflow.keras.layers import Conv1D, LSTM, SimpleRNN, Dense, Flatten, Dropout\n",
        "from sklearn.model_selection import train_test_split\n",
        "from sklearn.preprocessing import StandardScaler\n",
        "from imblearn.over_sampling import SMOTE\n",
        "from sklearn.metrics import classification_report, confusion_matrix, roc_auc_score, accuracy_score, precision_score, recall_score\n"
      ]
    },
    {
      "cell_type": "code",
      "source": [
        "# Load dataset\n",
        "data = pd.read_csv('/content/filtered_ptbxl_data.csv')\n",
        "\n",
        "# Extract target labels from SCP codes\n",
        "def extract_labels(scp_codes):\n",
        "    if 'NORM' in scp_codes:\n",
        "        return 0  # Normal ECG\n",
        "    elif 'IMI' in scp_codes:\n",
        "        return 1  # Infarction ECG\n",
        "    return -1  # Exclude other cases\n",
        "\n",
        "data['label'] = data['scp_codes'].apply(extract_labels)\n",
        "data = data[data['label'] != -1]  # Filter only relevant classes\n",
        "\n",
        "X = data.drop(columns=['scp_codes', 'label'])\n",
        "y = data['label']"
      ],
      "metadata": {
        "id": "jU8OIVd6wrJ-"
      },
      "execution_count": null,
      "outputs": []
    },
    {
      "cell_type": "code",
      "source": [
        "# Handle class imbalance using SMOTE\n",
        "# Convert all columns in X to numerical\n",
        "X = X.apply(pd.to_numeric, errors='coerce').fillna(0)  # Convert to numeric, replace errors with NaN, and fill NaN with 0\n",
        "\n",
        "smote = SMOTE()\n",
        "X_resampled, y_resampled = smote.fit_resample(X, y)"
      ],
      "metadata": {
        "id": "n1wQWmOFw-Tm"
      },
      "execution_count": null,
      "outputs": []
    },
    {
      "cell_type": "code",
      "source": [
        "# Normalize data\n",
        "scaler = StandardScaler()\n",
        "X_resampled = scaler.fit_transform(X_resampled)"
      ],
      "metadata": {
        "id": "pn_w49t3xMn2"
      },
      "execution_count": null,
      "outputs": []
    },
    {
      "cell_type": "code",
      "source": [
        "# Reshape for CNN/RNN/LSTM\n",
        "X_resampled = np.expand_dims(X_resampled, axis=-1)"
      ],
      "metadata": {
        "id": "buVLDNdlxTyc"
      },
      "execution_count": null,
      "outputs": []
    },
    {
      "cell_type": "code",
      "source": [
        "# Train-test split\n",
        "X_train, X_test, y_train, y_test = train_test_split(X_resampled, y_resampled, test_size=0.2, random_state=42)\n"
      ],
      "metadata": {
        "id": "fjLf54LhxaZY"
      },
      "execution_count": null,
      "outputs": []
    },
    {
      "cell_type": "code",
      "source": [
        "# Define CNN model\n",
        "def build_cnn():\n",
        "    model = Sequential([\n",
        "        Conv1D(64, kernel_size=3, activation='relu', input_shape=(X_train.shape[1], 1)),\n",
        "        Flatten(),\n",
        "        Dense(64, activation='relu'),\n",
        "        Dropout(0.5),\n",
        "        Dense(1, activation='sigmoid')\n",
        "    ])\n",
        "    model.compile(optimizer='adam', loss='binary_crossentropy', metrics=['accuracy'])\n",
        "    return model\n"
      ],
      "metadata": {
        "id": "9lFginRhxeLb"
      },
      "execution_count": null,
      "outputs": []
    },
    {
      "cell_type": "code",
      "source": [
        "# Define RNN model\n",
        "def build_rnn():\n",
        "    model = Sequential([\n",
        "        SimpleRNN(64, activation='relu', input_shape=(X_train.shape[1], 1)),\n",
        "        Dense(64, activation='relu'),\n",
        "        Dropout(0.5),\n",
        "        Dense(1, activation='sigmoid')\n",
        "    ])\n",
        "    model.compile(optimizer='adam', loss='binary_crossentropy', metrics=['accuracy'])\n",
        "    return model"
      ],
      "metadata": {
        "id": "i6BuKIs5xmta"
      },
      "execution_count": null,
      "outputs": []
    },
    {
      "cell_type": "code",
      "source": [
        "# Define LSTM model\n",
        "def build_lstm():\n",
        "    model = Sequential([\n",
        "        LSTM(64, activation='relu', input_shape=(X_train.shape[1], 1)),\n",
        "        Dense(64, activation='relu'),\n",
        "        Dropout(0.5),\n",
        "        Dense(1, activation='sigmoid')\n",
        "    ])\n",
        "    model.compile(optimizer='adam', loss='binary_crossentropy', metrics=['accuracy'])\n",
        "    return model\n"
      ],
      "metadata": {
        "id": "KfIy7Nv2xt4d"
      },
      "execution_count": null,
      "outputs": []
    },
    {
      "cell_type": "code",
      "source": [
        "# Train and evaluate models\n",
        "models = {'CNN': build_cnn(), 'RNN': build_rnn(), 'LSTM': build_lstm()}\n",
        "results = {}\n",
        "\n",
        "for name, model in models.items():\n",
        "    print(f'\\nTraining {name} model...')\n",
        "    model.fit(X_train, y_train, epochs=10, batch_size=32, validation_data=(X_test, y_test))\n",
        "    y_pred = (model.predict(X_test) > 0.5).astype('int')\n",
        "\n",
        "    conf_matrix = confusion_matrix(y_test, y_pred)\n",
        "    acc = accuracy_score(y_test, y_pred)\n",
        "    prec = precision_score(y_test, y_pred)\n",
        "    rec = recall_score(y_test, y_pred)\n",
        "    auc = roc_auc_score(y_test, y_pred)\n",
        "\n",
        "    results[name] = {\n",
        "        'Confusion Matrix': conf_matrix,\n",
        "        'Accuracy': acc,\n",
        "        'Precision': prec,\n",
        "        'Recall': rec,\n",
        "        'AUC Score': auc\n",
        "    }\n",
        "\n",
        "    print(f'\\n{name} Model Evaluation:')\n",
        "    print(f'Confusion Matrix:\\n{conf_matrix}')\n",
        "    print(f'Accuracy: {acc}')\n",
        "    print(f'Precision: {prec}')\n",
        "    print(f'Recall: {rec}')\n",
        "    print(f'AUC Score: {auc}')\n"
      ],
      "metadata": {
        "colab": {
          "base_uri": "https://localhost:8080/"
        },
        "id": "QkVvzsLbxyHC",
        "outputId": "7a6bc526-3d0c-4eab-c7de-7b0514287aab"
      },
      "execution_count": null,
      "outputs": [
        {
          "output_type": "stream",
          "name": "stdout",
          "text": [
            "\n",
            "Training CNN model...\n",
            "Epoch 1/10\n"
          ]
        },
        {
          "output_type": "stream",
          "name": "stderr",
          "text": [
            "/usr/local/lib/python3.11/dist-packages/keras/src/layers/convolutional/base_conv.py:107: UserWarning: Do not pass an `input_shape`/`input_dim` argument to a layer. When using Sequential models, prefer using an `Input(shape)` object as the first layer in the model instead.\n",
            "  super().__init__(activity_regularizer=activity_regularizer, **kwargs)\n",
            "/usr/local/lib/python3.11/dist-packages/keras/src/layers/rnn/rnn.py:204: UserWarning: Do not pass an `input_shape`/`input_dim` argument to a layer. When using Sequential models, prefer using an `Input(shape)` object as the first layer in the model instead.\n",
            "  super().__init__(**kwargs)\n"
          ]
        },
        {
          "output_type": "stream",
          "name": "stdout",
          "text": [
            "\u001b[1m477/477\u001b[0m \u001b[32m━━━━━━━━━━━━━━━━━━━━\u001b[0m\u001b[37m\u001b[0m \u001b[1m4s\u001b[0m 5ms/step - accuracy: 0.7504 - loss: 0.5134 - val_accuracy: 0.7802 - val_loss: 0.4655\n",
            "Epoch 2/10\n",
            "\u001b[1m477/477\u001b[0m \u001b[32m━━━━━━━━━━━━━━━━━━━━\u001b[0m\u001b[37m\u001b[0m \u001b[1m2s\u001b[0m 4ms/step - accuracy: 0.7783 - loss: 0.4667 - val_accuracy: 0.7815 - val_loss: 0.4424\n",
            "Epoch 3/10\n",
            "\u001b[1m477/477\u001b[0m \u001b[32m━━━━━━━━━━━━━━━━━━━━\u001b[0m\u001b[37m\u001b[0m \u001b[1m3s\u001b[0m 6ms/step - accuracy: 0.7853 - loss: 0.4564 - val_accuracy: 0.7880 - val_loss: 0.4388\n",
            "Epoch 4/10\n",
            "\u001b[1m477/477\u001b[0m \u001b[32m━━━━━━━━━━━━━━━━━━━━\u001b[0m\u001b[37m\u001b[0m \u001b[1m4s\u001b[0m 4ms/step - accuracy: 0.7916 - loss: 0.4435 - val_accuracy: 0.7928 - val_loss: 0.4251\n",
            "Epoch 5/10\n",
            "\u001b[1m477/477\u001b[0m \u001b[32m━━━━━━━━━━━━━━━━━━━━\u001b[0m\u001b[37m\u001b[0m \u001b[1m2s\u001b[0m 5ms/step - accuracy: 0.7877 - loss: 0.4404 - val_accuracy: 0.7967 - val_loss: 0.4200\n",
            "Epoch 6/10\n",
            "\u001b[1m477/477\u001b[0m \u001b[32m━━━━━━━━━━━━━━━━━━━━\u001b[0m\u001b[37m\u001b[0m \u001b[1m2s\u001b[0m 5ms/step - accuracy: 0.7873 - loss: 0.4369 - val_accuracy: 0.7967 - val_loss: 0.4155\n",
            "Epoch 7/10\n",
            "\u001b[1m477/477\u001b[0m \u001b[32m━━━━━━━━━━━━━━━━━━━━\u001b[0m\u001b[37m\u001b[0m \u001b[1m2s\u001b[0m 5ms/step - accuracy: 0.8037 - loss: 0.4196 - val_accuracy: 0.8054 - val_loss: 0.4119\n",
            "Epoch 8/10\n",
            "\u001b[1m477/477\u001b[0m \u001b[32m━━━━━━━━━━━━━━━━━━━━\u001b[0m\u001b[37m\u001b[0m \u001b[1m4s\u001b[0m 8ms/step - accuracy: 0.7934 - loss: 0.4242 - val_accuracy: 0.8009 - val_loss: 0.4075\n",
            "Epoch 9/10\n",
            "\u001b[1m477/477\u001b[0m \u001b[32m━━━━━━━━━━━━━━━━━━━━\u001b[0m\u001b[37m\u001b[0m \u001b[1m3s\u001b[0m 5ms/step - accuracy: 0.7949 - loss: 0.4250 - val_accuracy: 0.8030 - val_loss: 0.4052\n",
            "Epoch 10/10\n",
            "\u001b[1m477/477\u001b[0m \u001b[32m━━━━━━━━━━━━━━━━━━━━\u001b[0m\u001b[37m\u001b[0m \u001b[1m2s\u001b[0m 4ms/step - accuracy: 0.7979 - loss: 0.4238 - val_accuracy: 0.8059 - val_loss: 0.4034\n",
            "\u001b[1m120/120\u001b[0m \u001b[32m━━━━━━━━━━━━━━━━━━━━\u001b[0m\u001b[37m\u001b[0m \u001b[1m0s\u001b[0m 2ms/step\n",
            "\n",
            "CNN Model Evaluation:\n",
            "Confusion Matrix:\n",
            "[[1483  427]\n",
            " [ 313 1589]]\n",
            "Accuracy: 0.8058761804826863\n",
            "Precision: 0.7881944444444444\n",
            "Recall: 0.8354363827549948\n",
            "AUC Score: 0.8059380866654555\n",
            "\n",
            "Training RNN model...\n",
            "Epoch 1/10\n",
            "\u001b[1m477/477\u001b[0m \u001b[32m━━━━━━━━━━━━━━━━━━━━\u001b[0m\u001b[37m\u001b[0m \u001b[1m7s\u001b[0m 11ms/step - accuracy: 0.6452 - loss: 0.6207 - val_accuracy: 0.7736 - val_loss: 0.4649\n",
            "Epoch 2/10\n",
            "\u001b[1m477/477\u001b[0m \u001b[32m━━━━━━━━━━━━━━━━━━━━\u001b[0m\u001b[37m\u001b[0m \u001b[1m3s\u001b[0m 7ms/step - accuracy: 0.7656 - loss: 0.4886 - val_accuracy: 0.7760 - val_loss: 0.4626\n",
            "Epoch 3/10\n",
            "\u001b[1m477/477\u001b[0m \u001b[32m━━━━━━━━━━━━━━━━━━━━\u001b[0m\u001b[37m\u001b[0m \u001b[1m3s\u001b[0m 7ms/step - accuracy: 0.7745 - loss: 0.4599 - val_accuracy: 0.7720 - val_loss: 0.4549\n",
            "Epoch 4/10\n",
            "\u001b[1m477/477\u001b[0m \u001b[32m━━━━━━━━━━━━━━━━━━━━\u001b[0m\u001b[37m\u001b[0m \u001b[1m4s\u001b[0m 8ms/step - accuracy: 0.7853 - loss: 0.4529 - val_accuracy: 0.7833 - val_loss: 0.4444\n",
            "Epoch 5/10\n",
            "\u001b[1m477/477\u001b[0m \u001b[32m━━━━━━━━━━━━━━━━━━━━\u001b[0m\u001b[37m\u001b[0m \u001b[1m5s\u001b[0m 8ms/step - accuracy: 0.7842 - loss: 0.4495 - val_accuracy: 0.7922 - val_loss: 0.4300\n",
            "Epoch 6/10\n",
            "\u001b[1m477/477\u001b[0m \u001b[32m━━━━━━━━━━━━━━━━━━━━\u001b[0m\u001b[37m\u001b[0m \u001b[1m5s\u001b[0m 7ms/step - accuracy: 0.7845 - loss: 0.4402 - val_accuracy: 0.7886 - val_loss: 0.4362\n",
            "Epoch 7/10\n",
            "\u001b[1m477/477\u001b[0m \u001b[32m━━━━━━━━━━━━━━━━━━━━\u001b[0m\u001b[37m\u001b[0m \u001b[1m6s\u001b[0m 10ms/step - accuracy: 0.7843 - loss: 0.4448 - val_accuracy: 0.7865 - val_loss: 0.4259\n",
            "Epoch 8/10\n",
            "\u001b[1m477/477\u001b[0m \u001b[32m━━━━━━━━━━━━━━━━━━━━\u001b[0m\u001b[37m\u001b[0m \u001b[1m4s\u001b[0m 7ms/step - accuracy: 0.7921 - loss: 0.4281 - val_accuracy: 0.7943 - val_loss: 0.4213\n",
            "Epoch 9/10\n",
            "\u001b[1m477/477\u001b[0m \u001b[32m━━━━━━━━━━━━━━━━━━━━\u001b[0m\u001b[37m\u001b[0m \u001b[1m4s\u001b[0m 8ms/step - accuracy: 0.7868 - loss: 0.4402 - val_accuracy: 0.7922 - val_loss: 0.4257\n",
            "Epoch 10/10\n",
            "\u001b[1m477/477\u001b[0m \u001b[32m━━━━━━━━━━━━━━━━━━━━\u001b[0m\u001b[37m\u001b[0m \u001b[1m4s\u001b[0m 9ms/step - accuracy: 0.7934 - loss: 0.4278 - val_accuracy: 0.7852 - val_loss: 0.4295\n",
            "\u001b[1m120/120\u001b[0m \u001b[32m━━━━━━━━━━━━━━━━━━━━\u001b[0m\u001b[37m\u001b[0m \u001b[1m1s\u001b[0m 6ms/step\n",
            "\n",
            "RNN Model Evaluation:\n",
            "Confusion Matrix:\n",
            "[[1317  593]\n",
            " [ 226 1676]]\n",
            "Accuracy: 0.7851521511017838\n",
            "Precision: 0.7386513882767739\n",
            "Recall: 0.8811777076761304\n",
            "AUC Score: 0.7853532517438243\n",
            "\n",
            "Training LSTM model...\n",
            "Epoch 1/10\n",
            "\u001b[1m477/477\u001b[0m \u001b[32m━━━━━━━━━━━━━━━━━━━━\u001b[0m\u001b[37m\u001b[0m \u001b[1m10s\u001b[0m 15ms/step - accuracy: 0.5246 - loss: 0.6912 - val_accuracy: 0.6650 - val_loss: 0.6371\n",
            "Epoch 2/10\n",
            "\u001b[1m477/477\u001b[0m \u001b[32m━━━━━━━━━━━━━━━━━━━━\u001b[0m\u001b[37m\u001b[0m \u001b[1m10s\u001b[0m 15ms/step - accuracy: 0.6732 - loss: 0.6185 - val_accuracy: 0.7080 - val_loss: 0.5762\n",
            "Epoch 3/10\n",
            "\u001b[1m477/477\u001b[0m \u001b[32m━━━━━━━━━━━━━━━━━━━━\u001b[0m\u001b[37m\u001b[0m \u001b[1m9s\u001b[0m 18ms/step - accuracy: 0.7006 - loss: 0.5753 - val_accuracy: 0.7067 - val_loss: 0.5346\n",
            "Epoch 4/10\n",
            "\u001b[1m477/477\u001b[0m \u001b[32m━━━━━━━━━━━━━━━━━━━━\u001b[0m\u001b[37m\u001b[0m \u001b[1m7s\u001b[0m 15ms/step - accuracy: 0.7057 - loss: 0.5536 - val_accuracy: 0.7086 - val_loss: 0.5215\n",
            "Epoch 5/10\n",
            "\u001b[1m477/477\u001b[0m \u001b[32m━━━━━━━━━━━━━━━━━━━━\u001b[0m\u001b[37m\u001b[0m \u001b[1m11s\u001b[0m 16ms/step - accuracy: 0.7200 - loss: 0.5334 - val_accuracy: 0.7311 - val_loss: 0.5220\n",
            "Epoch 6/10\n",
            "\u001b[1m477/477\u001b[0m \u001b[32m━━━━━━━━━━━━━━━━━━━━\u001b[0m\u001b[37m\u001b[0m \u001b[1m9s\u001b[0m 18ms/step - accuracy: 0.7319 - loss: 0.5128 - val_accuracy: 0.7424 - val_loss: 0.4873\n",
            "Epoch 7/10\n",
            "\u001b[1m477/477\u001b[0m \u001b[32m━━━━━━━━━━━━━━━━━━━━\u001b[0m\u001b[37m\u001b[0m \u001b[1m8s\u001b[0m 15ms/step - accuracy: 0.7540 - loss: 0.4915 - val_accuracy: 0.7636 - val_loss: 0.4656\n",
            "Epoch 8/10\n",
            "\u001b[1m477/477\u001b[0m \u001b[32m━━━━━━━━━━━━━━━━━━━━\u001b[0m\u001b[37m\u001b[0m \u001b[1m11s\u001b[0m 23ms/step - accuracy: 0.7564 - loss: 0.4851 - val_accuracy: 0.7678 - val_loss: 0.4557\n",
            "Epoch 9/10\n",
            "\u001b[1m477/477\u001b[0m \u001b[32m━━━━━━━━━━━━━━━━━━━━\u001b[0m\u001b[37m\u001b[0m \u001b[1m8s\u001b[0m 16ms/step - accuracy: 0.7674 - loss: 0.4697 - val_accuracy: 0.7188 - val_loss: 0.5252\n",
            "Epoch 10/10\n",
            "\u001b[1m477/477\u001b[0m \u001b[32m━━━━━━━━━━━━━━━━━━━━\u001b[0m\u001b[37m\u001b[0m \u001b[1m10s\u001b[0m 15ms/step - accuracy: 0.7427 - loss: 0.5010 - val_accuracy: 0.7636 - val_loss: 0.4625\n",
            "\u001b[1m120/120\u001b[0m \u001b[32m━━━━━━━━━━━━━━━━━━━━\u001b[0m\u001b[37m\u001b[0m \u001b[1m2s\u001b[0m 15ms/step\n",
            "\n",
            "LSTM Model Evaluation:\n",
            "Confusion Matrix:\n",
            "[[1389  521]\n",
            " [ 380 1522]]\n",
            "Accuracy: 0.7636411332633788\n",
            "Precision: 0.744982868330886\n",
            "Recall: 0.8002103049421662\n",
            "AUC Score: 0.7637177179161092\n"
          ]
        }
      ]
    },
    {
      "cell_type": "code",
      "source": [
        "# Plot bar graph for accuracy, precision, and recall\n",
        "metrics = ['Accuracy', 'Precision', 'Recall']\n",
        "values = {metric: [results[model][metric] for model in models] for metric in metrics}\n",
        "\n",
        "x = np.arange(len(models))\n",
        "width = 0.2\n",
        "\n",
        "fig, ax = plt.subplots(figsize=(8, 6))\n",
        "\n",
        "for i, metric in enumerate(metrics):\n",
        "    bars = ax.bar(x + i * width, values[metric], width, label=metric)\n",
        "    for bar in bars:\n",
        "        yval = bar.get_height()\n",
        "        ax.text(bar.get_x() + bar.get_width()/2, yval, round(yval, 2), ha='center', va='bottom')\n",
        "\n",
        "ax.set_xlabel('Models')\n",
        "ax.set_ylabel('Scores')\n",
        "ax.set_title('Model Comparison')\n",
        "ax.set_xticks(x + width)\n",
        "ax.set_xticklabels(models.keys())\n",
        "ax.legend()\n",
        "plt.show()"
      ],
      "metadata": {
        "colab": {
          "base_uri": "https://localhost:8080/",
          "height": 564
        },
        "id": "chH-rLsc12K9",
        "outputId": "e0594a8b-f6fd-415d-be88-394a16bf5ef9"
      },
      "execution_count": null,
      "outputs": [
        {
          "output_type": "display_data",
          "data": {
            "text/plain": [
              "<Figure size 800x600 with 1 Axes>"
            ],
            "image/png": "[encoded data removed]"
          },
          "metadata": {}
        }
      ]
    },
    {
      "cell_type": "code",
      "source": [
        "# Print final comparison\n",
        "print('\\nModel Comparison Results:')\n",
        "for model_name, metrics in results.items():\n",
        "    print(f'\\n{model_name}:')\n",
        "    for metric_name, value in metrics.items():\n",
        "        print(f'{metric_name}: {value}')\n"
      ],
      "metadata": {
        "colab": {
          "base_uri": "https://localhost:8080/"
        },
        "id": "UliF1o_gytTW",
        "outputId": "8f6f7ebf-1335-4e51-c6f2-fa530650ac24"
      },
      "execution_count": null,
      "outputs": [
        {
          "output_type": "stream",
          "name": "stdout",
          "text": [
            "\n",
            "Model Comparison Results:\n",
            "\n",
            "CNN:\n",
            "Confusion Matrix: [[1506  404]\n",
            " [ 344 1558]]\n",
            "Accuracy: 0.8037775445960126\n",
            "Precision: 0.7940876656472987\n",
            "Recall: 0.8191377497371188\n",
            "AUC Score: 0.8038097125648945\n",
            "\n",
            "RNN:\n",
            "Confusion Matrix: [[1384  526]\n",
            " [ 247 1655]]\n",
            "Accuracy: 0.7972193074501573\n",
            "Precision: 0.7588262265016048\n",
            "Recall: 0.870136698212408\n",
            "AUC Score: 0.7973720140276699\n",
            "\n",
            "LSTM:\n",
            "Confusion Matrix: [[1382  528]\n",
            " [ 418 1484]]\n",
            "Accuracy: 0.7518363064008394\n",
            "Precision: 0.7375745526838966\n",
            "Recall: 0.7802313354363828\n",
            "AUC Score: 0.7518957724302334\n"
          ]
        }
      ]
    }
  ]
}