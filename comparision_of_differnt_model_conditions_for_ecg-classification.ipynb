{
  "nbformat": 4,
  "nbformat_minor": 0,
  "metadata": {
    "colab": {
      "provenance": [],
      "include_colab_link": true
    },
    "kernelspec": {
      "name": "python3",
      "display_name": "Python 3"
    },
    "language_info": {
      "name": "python"
    }
  },
  "cells": [
    {
      "cell_type": "markdown",
      "metadata": {
        "id": "view-in-github",
        "colab_type": "text"
      },
      "source": [
        "<a href=\"https://colab.research.google.com/github/G-C-T-RAMA-LAKSHMI/Comparative-Analysis-of-CNN-RNN-and-LSTM-for-ECG-Classification-/blob/main/comparision_of_differnt_model_conditions_for_ecg-classification.ipynb\" target=\"_parent\"><img src=\"https://colab.research.google.com/assets/colab-badge.svg\" alt=\"Open In Colab\"/></a>"
      ]
    },
    {
      "cell_type": "code",
      "execution_count": 1,
      "metadata": {
        "id": "kUFX_yy0U07V"
      },
      "outputs": [],
      "source": [
        "import pandas as pd\n",
        "import numpy as np\n",
        "import tensorflow as tf\n",
        "from tensorflow.keras.models import Sequential\n",
        "from tensorflow.keras.layers import Conv1D, SimpleRNN, LSTM, Dense, Flatten, Dropout, MaxPooling1D\n",
        "from sklearn.model_selection import train_test_split\n",
        "from sklearn.preprocessing import StandardScaler\n",
        "from sklearn.metrics import accuracy_score\n",
        "from sklearn.impute import SimpleImputer\n",
        "from imblearn.over_sampling import SMOTE"
      ]
    },
    {
      "cell_type": "code",
      "source": [
        "# Load dataset\n",
        "data = pd.read_csv('/content/filtered_ptbxl_data.csv')\n",
        "\n",
        "def extract_labels(scp_codes):\n",
        "    if isinstance(scp_codes, str) and 'NORM' in scp_codes:\n",
        "        return 0  # Normal ECG\n",
        "    elif isinstance(scp_codes, str) and 'IMI' in scp_codes:\n",
        "        return 1  # Infarction ECG\n",
        "    return -1  # Exclude other cases\n",
        "\n",
        "data['label'] = data['scp_codes'].apply(extract_labels)\n",
        "data = data[data['label'] != -1]  # Filter only relevant classes"
      ],
      "metadata": {
        "id": "SiFYQtbKVCfu"
      },
      "execution_count": 2,
      "outputs": []
    },
    {
      "cell_type": "code",
      "source": [
        "# Ensure 'label' exists before dropping columns\n",
        "if 'label' in data.columns:\n",
        "    X = data.drop(columns=['scp_codes', 'label'])\n",
        "    y = data['label']\n",
        "else:\n",
        "    raise KeyError(\"Column 'label' not found in dataset\")"
      ],
      "metadata": {
        "id": "LLsxbD4vVYK8"
      },
      "execution_count": 3,
      "outputs": []
    },
    {
      "cell_type": "code",
      "source": [
        "# Select only numeric columns for SMOTE\n",
        "X_numeric = X.select_dtypes(include=[np.number])\n",
        "# Impute missing values using the mean\n",
        "imputer = SimpleImputer(strategy='mean')\n",
        "X_numeric_imputed = imputer.fit_transform(X_numeric)"
      ],
      "metadata": {
        "id": "R3vYio8XVdpE"
      },
      "execution_count": 4,
      "outputs": []
    },
    {
      "cell_type": "code",
      "source": [
        "# Handle class imbalance using SMOTE\n",
        "smote = SMOTE()\n",
        "X_resampled, y_resampled = smote.fit_resample(X_numeric_imputed, y)"
      ],
      "metadata": {
        "id": "Zb-v6iGmVpri"
      },
      "execution_count": 5,
      "outputs": []
    },
    {
      "cell_type": "code",
      "source": [
        "# Normalize data\n",
        "scaler = StandardScaler()\n",
        "X_resampled = scaler.fit_transform(X_resampled)\n"
      ],
      "metadata": {
        "id": "xUmleoEjVpp0"
      },
      "execution_count": 6,
      "outputs": []
    },
    {
      "cell_type": "code",
      "source": [
        "# Reshape for models\n",
        "X_resampled = np.expand_dims(X_resampled, axis=-1)"
      ],
      "metadata": {
        "id": "hJseYsipVdnM"
      },
      "execution_count": 7,
      "outputs": []
    },
    {
      "cell_type": "code",
      "source": [
        "# Train-test split\n",
        "X_train, X_test, y_train, y_test = train_test_split(X_resampled, y_resampled, test_size=0.2, random_state=42)"
      ],
      "metadata": {
        "id": "JZc0OFaXVzQs"
      },
      "execution_count": 8,
      "outputs": []
    },
    {
      "cell_type": "code",
      "source": [
        "# Assuming X_train, X_test, y_train, y_test are already defined\n",
        "# Assuming X_train.shape[1] is your sequence length\n",
        "input_shape = (X_train.shape[1], 1)  # Replace X_train with your actual data\n"
      ],
      "metadata": {
        "id": "-dcrB3-DVzAg"
      },
      "execution_count": 9,
      "outputs": []
    },
    {
      "cell_type": "code",
      "source": [
        "# Define model configurations\n",
        "#conv1D(cl_values) dense(dl_values)\n",
        "configurations = [\n",
        "    {'cl_values': [8], 'dl_values': [8]},\n",
        "    {'cl_values': [8, 16], 'dl_values': [16, 8]},\n",
        "    {'cl_values': [8, 16], 'dl_values': [32, 16, 8]},\n",
        "    {'cl_values': [8, 16, 32], 'dl_values': [32, 16, 8]},\n",
        "    {'cl_values': [8, 16, 32], 'dl_values': [64, 32, 16, 8]}\n",
        "]"
      ],
      "metadata": {
        "id": "V8YyyQBzWC0G"
      },
      "execution_count": 10,
      "outputs": []
    },
    {
      "cell_type": "code",
      "source": [
        "# Function to build and train a model\n",
        "def build_and_train_model(model_type, kernel_size, config):\n",
        "    model = Sequential()\n",
        "    if model_type == 'CNN':\n",
        "        model.add(Conv1D(config['cl_values'][0], kernel_size=kernel_size, activation='relu', input_shape=input_shape, padding='same'))\n",
        "        model.add(MaxPooling1D())\n",
        "        for cl_value in config['cl_values'][1:]:\n",
        "            model.add(Conv1D(cl_value, kernel_size=kernel_size, activation='relu', padding='same'))\n",
        "            model.add(MaxPooling1D())\n",
        "    elif model_type == 'RNN':\n",
        "        model.add(SimpleRNN(config['cl_values'][0], activation='relu', input_shape=input_shape, return_sequences=True))\n",
        "        model.add(MaxPooling1D())\n",
        "        for cl_value in config['cl_values'][1:]:\n",
        "            model.add(SimpleRNN(cl_value, activation='relu', return_sequences=True))\n",
        "            model.add(MaxPooling1D())\n",
        "    elif model_type == 'LSTM':\n",
        "        model.add(LSTM(config['cl_values'][0], activation='relu', input_shape=input_shape, return_sequences=True))\n",
        "        model.add(MaxPooling1D())\n",
        "        for cl_value in config['cl_values'][1:]:\n",
        "            model.add(LSTM(cl_value, activation='relu', return_sequences=True))\n",
        "            model.add(MaxPooling1D())\n",
        "\n",
        "    model.add(Flatten())\n",
        "    for dl_value in config['dl_values']:\n",
        "        model.add(Dense(dl_value, activation='relu'))\n",
        "    model.add(Dense(1, activation='sigmoid'))\n",
        "\n",
        "    model.compile(optimizer='adam', loss='binary_crossentropy', metrics=['accuracy'])\n",
        "    model.fit(X_train, y_train, epochs=10, batch_size=32, verbose=0)\n",
        "\n",
        "    _, accuracy = model.evaluate(X_test, y_test, verbose=0)\n",
        "    return accuracy"
      ],
      "metadata": {
        "id": "-6Ttjy42WIqa"
      },
      "execution_count": 11,
      "outputs": []
    },
    {
      "cell_type": "code",
      "source": [
        "# Create accuracy tables for each kernel size\n",
        "kernel_sizes = [3, 5, 7]\n",
        "accuracy_tables = {}\n",
        "\n",
        "for kernel_size in kernel_sizes:\n",
        "    all_accuracies = []\n",
        "    for model_type in ['CNN', 'RNN', 'LSTM']:\n",
        "        for i, config in enumerate(configurations):\n",
        "            accuracy = build_and_train_model(model_type, kernel_size, config)\n",
        "            all_accuracies.append([model_type, i + 1, accuracy])\n",
        "\n",
        "    df_accuracies = pd.DataFrame(all_accuracies, columns=['Model Type', 'Case', 'Accuracy'])\n",
        "    accuracy_table = pd.pivot_table(df_accuracies, values='Accuracy', index='Case', columns='Model Type')\n",
        "    accuracy_tables[kernel_size] = accuracy_table"
      ],
      "metadata": {
        "colab": {
          "base_uri": "https://localhost:8080/"
        },
        "id": "ENgw2f3sWIpi",
        "outputId": "3d6c5aa4-cda6-4621-bbb8-6d599ca6bcf4"
      },
      "execution_count": 12,
      "outputs": [
        {
          "output_type": "stream",
          "name": "stderr",
          "text": [
            "/usr/local/lib/python3.11/dist-packages/keras/src/layers/convolutional/base_conv.py:107: UserWarning: Do not pass an `input_shape`/`input_dim` argument to a layer. When using Sequential models, prefer using an `Input(shape)` object as the first layer in the model instead.\n",
            "  super().__init__(activity_regularizer=activity_regularizer, **kwargs)\n",
            "/usr/local/lib/python3.11/dist-packages/keras/src/layers/rnn/rnn.py:200: UserWarning: Do not pass an `input_shape`/`input_dim` argument to a layer. When using Sequential models, prefer using an `Input(shape)` object as the first layer in the model instead.\n",
            "  super().__init__(**kwargs)\n",
            "/usr/local/lib/python3.11/dist-packages/keras/src/layers/convolutional/base_conv.py:107: UserWarning: Do not pass an `input_shape`/`input_dim` argument to a layer. When using Sequential models, prefer using an `Input(shape)` object as the first layer in the model instead.\n",
            "  super().__init__(activity_regularizer=activity_regularizer, **kwargs)\n",
            "/usr/local/lib/python3.11/dist-packages/keras/src/layers/rnn/rnn.py:200: UserWarning: Do not pass an `input_shape`/`input_dim` argument to a layer. When using Sequential models, prefer using an `Input(shape)` object as the first layer in the model instead.\n",
            "  super().__init__(**kwargs)\n",
            "/usr/local/lib/python3.11/dist-packages/keras/src/layers/convolutional/base_conv.py:107: UserWarning: Do not pass an `input_shape`/`input_dim` argument to a layer. When using Sequential models, prefer using an `Input(shape)` object as the first layer in the model instead.\n",
            "  super().__init__(activity_regularizer=activity_regularizer, **kwargs)\n",
            "/usr/local/lib/python3.11/dist-packages/keras/src/layers/rnn/rnn.py:200: UserWarning: Do not pass an `input_shape`/`input_dim` argument to a layer. When using Sequential models, prefer using an `Input(shape)` object as the first layer in the model instead.\n",
            "  super().__init__(**kwargs)\n"
          ]
        }
      ]
    },
    {
      "cell_type": "code",
      "source": [
        "# Print the accuracy tables\n",
        "for kernel_size, accuracy_table in accuracy_tables.items():\n",
        "    print(f\"\\nAccuracy Table (Kernel Size = {kernel_size}):\")\n",
        "    print(accuracy_table)"
      ],
      "metadata": {
        "colab": {
          "base_uri": "https://localhost:8080/"
        },
        "id": "EzkB9VFjd-DT",
        "outputId": "76ee30fc-614f-46e1-9af1-1b355b5dc82f"
      },
      "execution_count": 13,
      "outputs": [
        {
          "output_type": "stream",
          "name": "stdout",
          "text": [
            "\n",
            "Accuracy Table (Kernel Size = 3):\n",
            "Model Type       CNN      LSTM       RNN\n",
            "Case                                    \n",
            "1           0.770199  0.769412  0.780168\n",
            "2           0.783316  0.754984  0.770986\n",
            "3           0.773610  0.764428  0.774659\n",
            "4           0.782529  0.764428  0.776758\n",
            "5           0.786726  0.501049  0.771773\n",
            "\n",
            "Accuracy Table (Kernel Size = 5):\n",
            "Model Type       CNN      LSTM       RNN\n",
            "Case                                    \n",
            "1           0.771773  0.764953  0.762592\n",
            "2           0.785939  0.757870  0.761018\n",
            "3           0.785677  0.769937  0.770199\n",
            "4           0.788562  0.766789  0.781480\n",
            "5           0.791186  0.770986  0.783578\n",
            "\n",
            "Accuracy Table (Kernel Size = 7):\n",
            "Model Type       CNN      LSTM       RNN\n",
            "Case                                    \n",
            "1           0.769675  0.768101  0.757345\n",
            "2           0.786464  0.775971  0.760493\n",
            "3           0.796170  0.751836  0.781480\n",
            "4           0.795645  0.742392  0.767576\n",
            "5           0.775708  0.760755  0.782791\n"
          ]
        }
      ]
    },
    {
      "cell_type": "code",
      "source": [
        "best_accuracies = {}\n",
        "\n",
        "for kernel_size, accuracy_table in accuracy_tables.items():\n",
        "    # Find the maximum accuracy for each model type\n",
        "    max_accuracies = accuracy_table.max()\n",
        "\n",
        "    # Get the case corresponding to the maximum accuracy for each model type\n",
        "    best_cases = accuracy_table.idxmax()\n",
        "\n",
        "    # Store the best accuracy, model type, and case for the current kernel size\n",
        "    best_accuracies[kernel_size] = {\n",
        "        'CNN': {'accuracy': max_accuracies['CNN'], 'case': best_cases['CNN']},\n",
        "        'RNN': {'accuracy': max_accuracies['RNN'], 'case': best_cases['RNN']},\n",
        "        'LSTM': {'accuracy': max_accuracies['LSTM'], 'case': best_cases['LSTM']}\n",
        "    }\n",
        "\n",
        "# Print the best accuracies for each kernel size\n",
        "for kernel_size, best_accuracy_info in best_accuracies.items():\n",
        "    print(f\"\\nBest Accuracies (Kernel Size = {kernel_size}):\")\n",
        "    for model_type, info in best_accuracy_info.items():\n",
        "        print(f\"{model_type}: Accuracy = {info['accuracy']:.4f}, Case = {info['case']}\")"
      ],
      "metadata": {
        "id": "q0-miTr9d-Bh",
        "colab": {
          "base_uri": "https://localhost:8080/"
        },
        "outputId": "0063d57e-f559-448e-8f22-a66ec868e170"
      },
      "execution_count": 14,
      "outputs": [
        {
          "output_type": "stream",
          "name": "stdout",
          "text": [
            "\n",
            "Best Accuracies (Kernel Size = 3):\n",
            "CNN: Accuracy = 0.7867, Case = 5\n",
            "RNN: Accuracy = 0.7802, Case = 1\n",
            "LSTM: Accuracy = 0.7694, Case = 1\n",
            "\n",
            "Best Accuracies (Kernel Size = 5):\n",
            "CNN: Accuracy = 0.7912, Case = 5\n",
            "RNN: Accuracy = 0.7836, Case = 5\n",
            "LSTM: Accuracy = 0.7710, Case = 5\n",
            "\n",
            "Best Accuracies (Kernel Size = 7):\n",
            "CNN: Accuracy = 0.7962, Case = 3\n",
            "RNN: Accuracy = 0.7828, Case = 5\n",
            "LSTM: Accuracy = 0.7760, Case = 2\n"
          ]
        }
      ]
    },
    {
      "cell_type": "code",
      "source": [],
      "metadata": {
        "id": "dsqh62MY4iFe"
      },
      "execution_count": null,
      "outputs": []
    }
  ]
}